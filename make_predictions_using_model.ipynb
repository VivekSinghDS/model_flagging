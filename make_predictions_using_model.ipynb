{
 "cells": [
  {
   "cell_type": "code",
   "execution_count": 29,
   "id": "ff82f724",
   "metadata": {},
   "outputs": [],
   "source": [
    "import pickle \n",
    "import time \n",
    "import re\n",
    "import string\n",
    "import nltk\n",
    "import pandas as pd\n",
    "import numpy as np\n",
    "from nltk.corpus import stopwords\n",
    "from nltk.stem.snowball import SnowballStemmer"
   ]
  },
  {
   "cell_type": "code",
   "execution_count": 30,
   "id": "bd490719",
   "metadata": {},
   "outputs": [],
   "source": [
    "with open('./classifier_model.pickle', 'rb') as file:\n",
    "    classifier = pickle.load(file)\n",
    "    file.close()"
   ]
  },
  {
   "cell_type": "code",
   "execution_count": 31,
   "id": "fe67fe2a",
   "metadata": {},
   "outputs": [],
   "source": [
    "with open('./word_vectorizer.pickle', 'rb') as file:\n",
    "    word_vectorizer = pickle.load(file)\n",
    "    file.close()"
   ]
  },
  {
   "cell_type": "code",
   "execution_count": 32,
   "id": "37096153",
   "metadata": {},
   "outputs": [],
   "source": [
    "def  clean_text(text):\n",
    "    text =  text.lower()\n",
    "    text = re.sub(r\"i'm\", \"i am\", text)\n",
    "    text = re.sub(r\"\\r\", \"\", text)\n",
    "    text = re.sub(r\"he's\", \"he is\", text)\n",
    "    \n",
    "    text = re.sub(r\"it's\", \"it is\", text)\n",
    "    text = re.sub(r\"that's\", \"that is\", text)\n",
    "    \n",
    "    text = re.sub(r\"where's\", \"where is\", text)\n",
    "    text = re.sub(r\"how's\", \"how is\", text)\n",
    "    text = re.sub(r\"\\'ll\", \" will\", text)\n",
    "    text = re.sub(r\"\\'ve\", \" have\", text)\n",
    "    text = re.sub(r\"\\'re\", \" are\", text)\n",
    "    text = re.sub(r\"\\'d\", \" would\", text)\n",
    "    text = re.sub(r\"\\'re\", \" are\", text)\n",
    "    text = re.sub(r\"won't\", \"will not\", text)\n",
    "    text = re.sub(r\"can't\", \"cannot\", text)\n",
    "    text = re.sub(r\"n't\", \" not\", text)\n",
    "    text = re.sub(r\"what's\", \"that is\", text)\n",
    "    text = re.sub(r\"n'\", \"ng\", text)\n",
    "    text = re.sub(r\"she's\", \"she is\", text)\n",
    "    text = re.sub(r\"'bout\", \"about\", text)\n",
    "    text = re.sub(r\"'til\", \"until\", text)\n",
    "    text = re.sub(r\"[-()\\\"#/@;:<>{}`+=~|.!?,]\", \"\", text)\n",
    "    text = text.translate(str.maketrans('', '', string.punctuation)) \n",
    "    text = re.sub(\"(\\\\W)\",\" \",text) \n",
    "    text = re.sub('\\S*\\d\\S*\\s*','', text)\n",
    "    \n",
    "    return text"
   ]
  },
  {
   "cell_type": "code",
   "execution_count": 38,
   "id": "b4f81f20",
   "metadata": {},
   "outputs": [
    {
     "name": "stderr",
     "output_type": "stream",
     "text": [
      "[nltk_data] Downloading package stopwords to /Users/vivek/nltk_data...\n",
      "[nltk_data]   Package stopwords is already up-to-date!\n"
     ]
    }
   ],
   "source": [
    "nltk.download('stopwords')\n",
    "sn = SnowballStemmer(language='english')\n",
    "def stem_stopwords_reduction(text):\n",
    "    \n",
    "    text = [sn.stem(w) for w in text.split() if not w in set(stopwords.words('english'))]\n",
    "    return ' '.join(text)"
   ]
  },
  {
   "cell_type": "code",
   "execution_count": 39,
   "id": "5ced5b61",
   "metadata": {},
   "outputs": [],
   "source": [
    "def make_test_predictions(text,classifier):\n",
    "    \n",
    "    df ={'id':[123],'comment_text':[text]}\n",
    "    df = pd.DataFrame(df)\n",
    "    df.comment_text = df.comment_text.apply(clean_text)\n",
    "    df.comment_text = df.comment_text.apply(stem_stopwords_reduction)\n",
    "    X_test = df.comment_text\n",
    "    X_test_transformed = word_vectorizer.transform(X_test)\n",
    "    y_test_pred = classifier.predict_proba(X_test_transformed)\n",
    "    \n",
    "    score_dict = {0:'Toxic', 1:'Severely Toxic', 2:'Obscene', 3:'Threat', 4:'Insult', 5:'Identity Hate'}\n",
    "    offensive_score = np.amax(y_test_pred)\n",
    "   \n",
    "    if(offensive_score>0.7):\n",
    "        print('Your comment is classified as {}, we suggest you to use a relatively normal tone'.format(score_dict[np.argmax(y_test_pred)]))\n",
    "        \n",
    "    elif(offensive_score>0.5):\n",
    "        print(\"Your comment might be taken as offensive to some of our users, kindly change it\")\n",
    "        \n",
    "    else:\n",
    "        print('The comment/statement has no issues ')"
   ]
  },
  {
   "cell_type": "code",
   "execution_count": 43,
   "id": "a03593a4",
   "metadata": {},
   "outputs": [
    {
     "name": "stdout",
     "output_type": "stream",
     "text": [
      "The comment/statement has no issues \n",
      "Time taken for generating the output is  67.43 ms\n"
     ]
    }
   ],
   "source": [
    "start = time.time()\n",
    "make_test_predictions('This is the final test case for testing this model', classifier)\n",
    "print('Time taken for generating the output is ', round((time.time()-start)*1000, 2), 'ms')"
   ]
  },
  {
   "cell_type": "code",
   "execution_count": 42,
   "id": "02c69d11",
   "metadata": {},
   "outputs": [
    {
     "name": "stdout",
     "output_type": "stream",
     "text": [
      "Your comment is classified as Obscene, we suggest you to use a relatively normal tone\n",
      "Time taken for generating the output is  67.26 ms\n"
     ]
    }
   ],
   "source": [
    "start = time.time()\n",
    "make_test_predictions('fuck you bitch', classifier)\n",
    "print('Time taken for generating the output is ', round((time.time()-start)*1000, 2), 'ms')"
   ]
  },
  {
   "cell_type": "code",
   "execution_count": null,
   "id": "04e9eab2",
   "metadata": {},
   "outputs": [],
   "source": []
  },
  {
   "cell_type": "code",
   "execution_count": null,
   "id": "06f138a9",
   "metadata": {},
   "outputs": [],
   "source": []
  },
  {
   "cell_type": "code",
   "execution_count": null,
   "id": "7d2747cb",
   "metadata": {},
   "outputs": [],
   "source": []
  }
 ],
 "metadata": {
  "kernelspec": {
   "display_name": "Python 3",
   "language": "python",
   "name": "python3"
  },
  "language_info": {
   "codemirror_mode": {
    "name": "ipython",
    "version": 3
   },
   "file_extension": ".py",
   "mimetype": "text/x-python",
   "name": "python",
   "nbconvert_exporter": "python",
   "pygments_lexer": "ipython3",
   "version": "3.8.8"
  }
 },
 "nbformat": 4,
 "nbformat_minor": 5
}
