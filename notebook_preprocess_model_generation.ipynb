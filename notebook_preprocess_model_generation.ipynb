{
 "cells": [
  {
   "cell_type": "code",
   "execution_count": 26,
   "id": "aed14761",
   "metadata": {},
   "outputs": [],
   "source": [
    "# !pip install scipy\n",
    "# !pip install pandas\n",
    "# !pip install sentence-transformers\n",
    "import scipy\n",
    "import pandas as pd \n",
    "import pickle \n",
    "import re \n",
    "import string\n",
    "from sentence_transformers import SentenceTransformer"
   ]
  },
  {
   "cell_type": "code",
   "execution_count": 27,
   "id": "f18f8465",
   "metadata": {},
   "outputs": [],
   "source": [
    "df = pd.read_csv('./train.csv')"
   ]
  },
  {
   "cell_type": "code",
   "execution_count": 36,
   "id": "ecd28407",
   "metadata": {},
   "outputs": [
    {
     "data": {
      "text/html": [
       "<div>\n",
       "<style scoped>\n",
       "    .dataframe tbody tr th:only-of-type {\n",
       "        vertical-align: middle;\n",
       "    }\n",
       "\n",
       "    .dataframe tbody tr th {\n",
       "        vertical-align: top;\n",
       "    }\n",
       "\n",
       "    .dataframe thead th {\n",
       "        text-align: right;\n",
       "    }\n",
       "</style>\n",
       "<table border=\"1\" class=\"dataframe\">\n",
       "  <thead>\n",
       "    <tr style=\"text-align: right;\">\n",
       "      <th></th>\n",
       "      <th>id</th>\n",
       "      <th>comment_text</th>\n",
       "      <th>toxic</th>\n",
       "      <th>severe_toxic</th>\n",
       "      <th>obscene</th>\n",
       "      <th>threat</th>\n",
       "      <th>insult</th>\n",
       "      <th>identity_hate</th>\n",
       "    </tr>\n",
       "  </thead>\n",
       "  <tbody>\n",
       "    <tr>\n",
       "      <th>64762</th>\n",
       "      <td>ad52e76a09ed37fb</td>\n",
       "      <td>i want you to do me in the bum</td>\n",
       "      <td>1</td>\n",
       "      <td>0</td>\n",
       "      <td>0</td>\n",
       "      <td>0</td>\n",
       "      <td>0</td>\n",
       "      <td>0</td>\n",
       "    </tr>\n",
       "    <tr>\n",
       "      <th>132558</th>\n",
       "      <td>c532c4855c95c7e8</td>\n",
       "      <td>racist stuff on mainpage   i cant bleive you a...</td>\n",
       "      <td>1</td>\n",
       "      <td>0</td>\n",
       "      <td>0</td>\n",
       "      <td>0</td>\n",
       "      <td>0</td>\n",
       "      <td>0</td>\n",
       "    </tr>\n",
       "    <tr>\n",
       "      <th>139143</th>\n",
       "      <td>e8a6d250a462e818</td>\n",
       "      <td>yamla get a life</td>\n",
       "      <td>1</td>\n",
       "      <td>0</td>\n",
       "      <td>0</td>\n",
       "      <td>0</td>\n",
       "      <td>0</td>\n",
       "      <td>0</td>\n",
       "    </tr>\n",
       "    <tr>\n",
       "      <th>90727</th>\n",
       "      <td>f2bd4fd6b37772ad</td>\n",
       "      <td>no i do not plan to ask you for advice as you ...</td>\n",
       "      <td>1</td>\n",
       "      <td>0</td>\n",
       "      <td>1</td>\n",
       "      <td>0</td>\n",
       "      <td>1</td>\n",
       "      <td>0</td>\n",
       "    </tr>\n",
       "    <tr>\n",
       "      <th>153345</th>\n",
       "      <td>9b629ec103eb7d84</td>\n",
       "      <td>urdu   do not be gullible and fall for indian ...</td>\n",
       "      <td>1</td>\n",
       "      <td>0</td>\n",
       "      <td>0</td>\n",
       "      <td>0</td>\n",
       "      <td>0</td>\n",
       "      <td>0</td>\n",
       "    </tr>\n",
       "  </tbody>\n",
       "</table>\n",
       "</div>"
      ],
      "text/plain": [
       "                      id                                       comment_text  \\\n",
       "64762   ad52e76a09ed37fb                     i want you to do me in the bum   \n",
       "132558  c532c4855c95c7e8  racist stuff on mainpage   i cant bleive you a...   \n",
       "139143  e8a6d250a462e818                                  yamla get a life    \n",
       "90727   f2bd4fd6b37772ad  no i do not plan to ask you for advice as you ...   \n",
       "153345  9b629ec103eb7d84  urdu   do not be gullible and fall for indian ...   \n",
       "\n",
       "        toxic  severe_toxic  obscene  threat  insult  identity_hate  \n",
       "64762       1             0        0       0       0              0  \n",
       "132558      1             0        0       0       0              0  \n",
       "139143      1             0        0       0       0              0  \n",
       "90727       1             0        1       0       1              0  \n",
       "153345      1             0        0       0       0              0  "
      ]
     },
     "execution_count": 36,
     "metadata": {},
     "output_type": "execute_result"
    }
   ],
   "source": [
    "df.sample(5)"
   ]
  },
  {
   "cell_type": "code",
   "execution_count": 37,
   "id": "c3f57031",
   "metadata": {},
   "outputs": [
    {
     "data": {
      "text/plain": [
       "138234    oaks and homophobia i provided a full citation...\n",
       "Name: comment_text, dtype: object"
      ]
     },
     "execution_count": 37,
     "metadata": {},
     "output_type": "execute_result"
    }
   ],
   "source": [
    "df[df['id']=='e3b8bc8940f2a818']['comment_text']"
   ]
  },
  {
   "cell_type": "code",
   "execution_count": 38,
   "id": "cb8db38f",
   "metadata": {},
   "outputs": [],
   "source": [
    "df = (df[(df['toxic']==1) | (df['severe_toxic']==1) | (df['obscene']==1) | (df['threat']==1) | \\\n",
    "       (df['insult']==1) | (df['identity_hate']==1)])"
   ]
  },
  {
   "cell_type": "code",
   "execution_count": 39,
   "id": "8510c378",
   "metadata": {},
   "outputs": [
    {
     "data": {
      "text/plain": [
       "(16225, 8)"
      ]
     },
     "execution_count": 39,
     "metadata": {},
     "output_type": "execute_result"
    }
   ],
   "source": [
    "df.shape"
   ]
  },
  {
   "cell_type": "code",
   "execution_count": 40,
   "id": "a8bf2726",
   "metadata": {},
   "outputs": [
    {
     "data": {
      "text/html": [
       "<div>\n",
       "<style scoped>\n",
       "    .dataframe tbody tr th:only-of-type {\n",
       "        vertical-align: middle;\n",
       "    }\n",
       "\n",
       "    .dataframe tbody tr th {\n",
       "        vertical-align: top;\n",
       "    }\n",
       "\n",
       "    .dataframe thead th {\n",
       "        text-align: right;\n",
       "    }\n",
       "</style>\n",
       "<table border=\"1\" class=\"dataframe\">\n",
       "  <thead>\n",
       "    <tr style=\"text-align: right;\">\n",
       "      <th></th>\n",
       "      <th>id</th>\n",
       "      <th>comment_text</th>\n",
       "      <th>toxic</th>\n",
       "      <th>severe_toxic</th>\n",
       "      <th>obscene</th>\n",
       "      <th>threat</th>\n",
       "      <th>insult</th>\n",
       "      <th>identity_hate</th>\n",
       "    </tr>\n",
       "  </thead>\n",
       "  <tbody>\n",
       "    <tr>\n",
       "      <th>99204</th>\n",
       "      <td>12a804c51cc46bb9</td>\n",
       "      <td>canadianbacon is a fucking douche bag</td>\n",
       "      <td>1</td>\n",
       "      <td>0</td>\n",
       "      <td>1</td>\n",
       "      <td>0</td>\n",
       "      <td>1</td>\n",
       "      <td>0</td>\n",
       "    </tr>\n",
       "    <tr>\n",
       "      <th>38706</th>\n",
       "      <td>6743c107ecb66c70</td>\n",
       "      <td>go f yourself m fuker you are a modi ass fucke...</td>\n",
       "      <td>1</td>\n",
       "      <td>1</td>\n",
       "      <td>1</td>\n",
       "      <td>0</td>\n",
       "      <td>1</td>\n",
       "      <td>1</td>\n",
       "    </tr>\n",
       "    <tr>\n",
       "      <th>86597</th>\n",
       "      <td>e7a09a04eb831d30</td>\n",
       "      <td>current event   wtf is the current event about</td>\n",
       "      <td>1</td>\n",
       "      <td>0</td>\n",
       "      <td>1</td>\n",
       "      <td>0</td>\n",
       "      <td>0</td>\n",
       "      <td>0</td>\n",
       "    </tr>\n",
       "    <tr>\n",
       "      <th>12121</th>\n",
       "      <td>201811d6c781b09b</td>\n",
       "      <td>yoder is the fucking man</td>\n",
       "      <td>1</td>\n",
       "      <td>0</td>\n",
       "      <td>1</td>\n",
       "      <td>0</td>\n",
       "      <td>1</td>\n",
       "      <td>0</td>\n",
       "    </tr>\n",
       "    <tr>\n",
       "      <th>106451</th>\n",
       "      <td>397f8394784d77a9</td>\n",
       "      <td>if you want to leave the article a bunch of li...</td>\n",
       "      <td>1</td>\n",
       "      <td>0</td>\n",
       "      <td>0</td>\n",
       "      <td>0</td>\n",
       "      <td>0</td>\n",
       "      <td>0</td>\n",
       "    </tr>\n",
       "  </tbody>\n",
       "</table>\n",
       "</div>"
      ],
      "text/plain": [
       "                      id                                       comment_text  \\\n",
       "99204   12a804c51cc46bb9              canadianbacon is a fucking douche bag   \n",
       "38706   6743c107ecb66c70  go f yourself m fuker you are a modi ass fucke...   \n",
       "86597   e7a09a04eb831d30     current event   wtf is the current event about   \n",
       "12121   201811d6c781b09b                           yoder is the fucking man   \n",
       "106451  397f8394784d77a9  if you want to leave the article a bunch of li...   \n",
       "\n",
       "        toxic  severe_toxic  obscene  threat  insult  identity_hate  \n",
       "99204       1             0        1       0       1              0  \n",
       "38706       1             1        1       0       1              1  \n",
       "86597       1             0        1       0       0              0  \n",
       "12121       1             0        1       0       1              0  \n",
       "106451      1             0        0       0       0              0  "
      ]
     },
     "execution_count": 40,
     "metadata": {},
     "output_type": "execute_result"
    }
   ],
   "source": [
    "df.sample(5)"
   ]
  },
  {
   "cell_type": "code",
   "execution_count": 33,
   "id": "8a7547ef",
   "metadata": {},
   "outputs": [],
   "source": [
    "import re\n",
    "import string\n",
    "def  clean_text(text):\n",
    "    text =  text.lower()\n",
    "    text = re.sub(r\"i'm\", \"i am\", text)\n",
    "    text = re.sub(r\"\\r\", \"\", text)\n",
    "    text = re.sub(r\"he's\", \"he is\", text)\n",
    "    text = re.sub(r\"she's\", \"she is\", text)\n",
    "    text = re.sub(r\"it's\", \"it is\", text)\n",
    "    text = re.sub(r\"that's\", \"that is\", text)\n",
    "    text = re.sub(r\"what's\", \"that is\", text)\n",
    "    text = re.sub(r\"where's\", \"where is\", text)\n",
    "    text = re.sub(r\"how's\", \"how is\", text)\n",
    "    text = re.sub(r\"\\'ll\", \" will\", text)\n",
    "    text = re.sub(r\"\\'ve\", \" have\", text)\n",
    "    text = re.sub(r\"\\'re\", \" are\", text)\n",
    "    text = re.sub(r\"\\'d\", \" would\", text)\n",
    "    text = re.sub(r\"\\'re\", \" are\", text)\n",
    "    text = re.sub(r\"won't\", \"will not\", text)\n",
    "    text = re.sub(r\"can't\", \"cannot\", text)\n",
    "    text = re.sub(r\"n't\", \" not\", text)\n",
    "    text = re.sub(r\"n'\", \"ng\", text)\n",
    "    text = re.sub(r\"'bout\", \"about\", text)\n",
    "    text = re.sub(r\"'til\", \"until\", text)\n",
    "    text = re.sub(r\"[-()\\\"#/@;:<>{}`+=~|.!?,]\", \"\", text)\n",
    "    text = text.translate(str.maketrans('', '', string.punctuation)) \n",
    "    text = re.sub(\"(\\\\W)\",\" \",text) \n",
    "    text = re.sub('\\S*\\d\\S*\\s*','', text)\n",
    "    \n",
    "    return text"
   ]
  },
  {
   "cell_type": "code",
   "execution_count": 34,
   "id": "44470099",
   "metadata": {},
   "outputs": [],
   "source": [
    "# df['comment_text'] = df['comment_text'].str.lower()\n",
    "df['comment_text'] = df['comment_text'].apply(clean_text)"
   ]
  },
  {
   "cell_type": "code",
   "execution_count": 35,
   "id": "8aad87f9",
   "metadata": {},
   "outputs": [
    {
     "data": {
      "text/html": [
       "<div>\n",
       "<style scoped>\n",
       "    .dataframe tbody tr th:only-of-type {\n",
       "        vertical-align: middle;\n",
       "    }\n",
       "\n",
       "    .dataframe tbody tr th {\n",
       "        vertical-align: top;\n",
       "    }\n",
       "\n",
       "    .dataframe thead th {\n",
       "        text-align: right;\n",
       "    }\n",
       "</style>\n",
       "<table border=\"1\" class=\"dataframe\">\n",
       "  <thead>\n",
       "    <tr style=\"text-align: right;\">\n",
       "      <th></th>\n",
       "      <th>id</th>\n",
       "      <th>comment_text</th>\n",
       "      <th>toxic</th>\n",
       "      <th>severe_toxic</th>\n",
       "      <th>obscene</th>\n",
       "      <th>threat</th>\n",
       "      <th>insult</th>\n",
       "      <th>identity_hate</th>\n",
       "    </tr>\n",
       "  </thead>\n",
       "  <tbody>\n",
       "    <tr>\n",
       "      <th>56336</th>\n",
       "      <td>968969226d2aea90</td>\n",
       "      <td>ritual murder ritual murder</td>\n",
       "      <td>1</td>\n",
       "      <td>0</td>\n",
       "      <td>0</td>\n",
       "      <td>0</td>\n",
       "      <td>0</td>\n",
       "      <td>0</td>\n",
       "    </tr>\n",
       "    <tr>\n",
       "      <th>57756</th>\n",
       "      <td>9a90d25059773747</td>\n",
       "      <td>cumulus cloud get a life you loser   cumulus c...</td>\n",
       "      <td>1</td>\n",
       "      <td>0</td>\n",
       "      <td>0</td>\n",
       "      <td>0</td>\n",
       "      <td>0</td>\n",
       "      <td>0</td>\n",
       "    </tr>\n",
       "    <tr>\n",
       "      <th>108937</th>\n",
       "      <td>4679eb825d7fb1d5</td>\n",
       "      <td>fuck with wikipedia doosh bags</td>\n",
       "      <td>1</td>\n",
       "      <td>0</td>\n",
       "      <td>1</td>\n",
       "      <td>0</td>\n",
       "      <td>0</td>\n",
       "      <td>0</td>\n",
       "    </tr>\n",
       "    <tr>\n",
       "      <th>130606</th>\n",
       "      <td>baa697fc5a80ee13</td>\n",
       "      <td>fuck off   fuck off slanteye</td>\n",
       "      <td>1</td>\n",
       "      <td>1</td>\n",
       "      <td>1</td>\n",
       "      <td>0</td>\n",
       "      <td>1</td>\n",
       "      <td>0</td>\n",
       "    </tr>\n",
       "    <tr>\n",
       "      <th>23960</th>\n",
       "      <td>3f43ba09b7379f84</td>\n",
       "      <td>hey fag why you gotsta delete my edits   fag</td>\n",
       "      <td>1</td>\n",
       "      <td>0</td>\n",
       "      <td>1</td>\n",
       "      <td>0</td>\n",
       "      <td>1</td>\n",
       "      <td>0</td>\n",
       "    </tr>\n",
       "    <tr>\n",
       "      <th>81224</th>\n",
       "      <td>d94b76b291a099b7</td>\n",
       "      <td>int addint a int b     being a vandal fuck ...</td>\n",
       "      <td>1</td>\n",
       "      <td>0</td>\n",
       "      <td>1</td>\n",
       "      <td>0</td>\n",
       "      <td>1</td>\n",
       "      <td>0</td>\n",
       "    </tr>\n",
       "    <tr>\n",
       "      <th>78431</th>\n",
       "      <td>d1df57dd42a778e5</td>\n",
       "      <td>all you people suck i found it myself it is ca...</td>\n",
       "      <td>1</td>\n",
       "      <td>0</td>\n",
       "      <td>1</td>\n",
       "      <td>0</td>\n",
       "      <td>0</td>\n",
       "      <td>0</td>\n",
       "    </tr>\n",
       "    <tr>\n",
       "      <th>115750</th>\n",
       "      <td>6b07732224e185f1</td>\n",
       "      <td>stormie likes men if you look at his face it l...</td>\n",
       "      <td>1</td>\n",
       "      <td>0</td>\n",
       "      <td>0</td>\n",
       "      <td>0</td>\n",
       "      <td>0</td>\n",
       "      <td>0</td>\n",
       "    </tr>\n",
       "    <tr>\n",
       "      <th>63286</th>\n",
       "      <td>a9577ad4d2d69c3b</td>\n",
       "      <td>runescape is gay everyone join world of warcra...</td>\n",
       "      <td>1</td>\n",
       "      <td>0</td>\n",
       "      <td>0</td>\n",
       "      <td>0</td>\n",
       "      <td>1</td>\n",
       "      <td>0</td>\n",
       "    </tr>\n",
       "    <tr>\n",
       "      <th>95253</th>\n",
       "      <td>feac5bc4552c836b</td>\n",
       "      <td>and for those reasons i despise china as wel...</td>\n",
       "      <td>1</td>\n",
       "      <td>0</td>\n",
       "      <td>0</td>\n",
       "      <td>0</td>\n",
       "      <td>0</td>\n",
       "      <td>0</td>\n",
       "    </tr>\n",
       "  </tbody>\n",
       "</table>\n",
       "</div>"
      ],
      "text/plain": [
       "                      id                                       comment_text  \\\n",
       "56336   968969226d2aea90                        ritual murder ritual murder   \n",
       "57756   9a90d25059773747  cumulus cloud get a life you loser   cumulus c...   \n",
       "108937  4679eb825d7fb1d5                     fuck with wikipedia doosh bags   \n",
       "130606  baa697fc5a80ee13                       fuck off   fuck off slanteye   \n",
       "23960   3f43ba09b7379f84       hey fag why you gotsta delete my edits   fag   \n",
       "81224   d94b76b291a099b7     int addint a int b     being a vandal fuck ...   \n",
       "78431   d1df57dd42a778e5  all you people suck i found it myself it is ca...   \n",
       "115750  6b07732224e185f1  stormie likes men if you look at his face it l...   \n",
       "63286   a9577ad4d2d69c3b  runescape is gay everyone join world of warcra...   \n",
       "95253   feac5bc4552c836b    and for those reasons i despise china as wel...   \n",
       "\n",
       "        toxic  severe_toxic  obscene  threat  insult  identity_hate  \n",
       "56336       1             0        0       0       0              0  \n",
       "57756       1             0        0       0       0              0  \n",
       "108937      1             0        1       0       0              0  \n",
       "130606      1             1        1       0       1              0  \n",
       "23960       1             0        1       0       1              0  \n",
       "81224       1             0        1       0       1              0  \n",
       "78431       1             0        1       0       0              0  \n",
       "115750      1             0        0       0       0              0  \n",
       "63286       1             0        0       0       1              0  \n",
       "95253       1             0        0       0       0              0  "
      ]
     },
     "execution_count": 35,
     "metadata": {},
     "output_type": "execute_result"
    }
   ],
   "source": [
    "df.sample(10)"
   ]
  },
  {
   "cell_type": "code",
   "execution_count": 11,
   "id": "0dd19d5e",
   "metadata": {},
   "outputs": [],
   "source": [
    "df['flag_toxic'] = 1"
   ]
  },
  {
   "cell_type": "code",
   "execution_count": 12,
   "id": "a6789337",
   "metadata": {},
   "outputs": [
    {
     "data": {
      "text/html": [
       "<div>\n",
       "<style scoped>\n",
       "    .dataframe tbody tr th:only-of-type {\n",
       "        vertical-align: middle;\n",
       "    }\n",
       "\n",
       "    .dataframe tbody tr th {\n",
       "        vertical-align: top;\n",
       "    }\n",
       "\n",
       "    .dataframe thead th {\n",
       "        text-align: right;\n",
       "    }\n",
       "</style>\n",
       "<table border=\"1\" class=\"dataframe\">\n",
       "  <thead>\n",
       "    <tr style=\"text-align: right;\">\n",
       "      <th></th>\n",
       "      <th>id</th>\n",
       "      <th>comment_text</th>\n",
       "      <th>toxic</th>\n",
       "      <th>severe_toxic</th>\n",
       "      <th>obscene</th>\n",
       "      <th>threat</th>\n",
       "      <th>insult</th>\n",
       "      <th>identity_hate</th>\n",
       "      <th>flag_toxic</th>\n",
       "    </tr>\n",
       "  </thead>\n",
       "  <tbody>\n",
       "    <tr>\n",
       "      <th>28202</th>\n",
       "      <td>4aac4c9d44c3f245</td>\n",
       "      <td>awwwwwwww you were called a fuckknuckle diddum...</td>\n",
       "      <td>1</td>\n",
       "      <td>0</td>\n",
       "      <td>1</td>\n",
       "      <td>0</td>\n",
       "      <td>1</td>\n",
       "      <td>0</td>\n",
       "      <td>1</td>\n",
       "    </tr>\n",
       "    <tr>\n",
       "      <th>156621</th>\n",
       "      <td>d13effbe84553680</td>\n",
       "      <td>adam rose     john cena lover why do you de...</td>\n",
       "      <td>0</td>\n",
       "      <td>0</td>\n",
       "      <td>1</td>\n",
       "      <td>0</td>\n",
       "      <td>1</td>\n",
       "      <td>0</td>\n",
       "      <td>1</td>\n",
       "    </tr>\n",
       "    <tr>\n",
       "      <th>8777</th>\n",
       "      <td>174b28aca3fc0228</td>\n",
       "      <td>tell that crap to amib will ya</td>\n",
       "      <td>1</td>\n",
       "      <td>0</td>\n",
       "      <td>0</td>\n",
       "      <td>0</td>\n",
       "      <td>0</td>\n",
       "      <td>0</td>\n",
       "      <td>1</td>\n",
       "    </tr>\n",
       "    <tr>\n",
       "      <th>18238</th>\n",
       "      <td>302750e68922471c</td>\n",
       "      <td>you are all racist you are all jews</td>\n",
       "      <td>1</td>\n",
       "      <td>0</td>\n",
       "      <td>0</td>\n",
       "      <td>0</td>\n",
       "      <td>1</td>\n",
       "      <td>0</td>\n",
       "      <td>1</td>\n",
       "    </tr>\n",
       "    <tr>\n",
       "      <th>153141</th>\n",
       "      <td>98179215f3d35f14</td>\n",
       "      <td>wow lol      you even restore the question sig...</td>\n",
       "      <td>1</td>\n",
       "      <td>0</td>\n",
       "      <td>0</td>\n",
       "      <td>0</td>\n",
       "      <td>0</td>\n",
       "      <td>0</td>\n",
       "      <td>1</td>\n",
       "    </tr>\n",
       "    <tr>\n",
       "      <th>8690</th>\n",
       "      <td>17153baffc4d82c6</td>\n",
       "      <td>call me out for being a queer</td>\n",
       "      <td>1</td>\n",
       "      <td>0</td>\n",
       "      <td>0</td>\n",
       "      <td>0</td>\n",
       "      <td>0</td>\n",
       "      <td>0</td>\n",
       "      <td>1</td>\n",
       "    </tr>\n",
       "    <tr>\n",
       "      <th>31588</th>\n",
       "      <td>53de433338e3fc72</td>\n",
       "      <td>muslim lover   you are scared of islam</td>\n",
       "      <td>1</td>\n",
       "      <td>0</td>\n",
       "      <td>0</td>\n",
       "      <td>0</td>\n",
       "      <td>0</td>\n",
       "      <td>0</td>\n",
       "      <td>1</td>\n",
       "    </tr>\n",
       "    <tr>\n",
       "      <th>106689</th>\n",
       "      <td>3a9e459f5f5cccfc</td>\n",
       "      <td>do you know who else believed in censorship   ...</td>\n",
       "      <td>1</td>\n",
       "      <td>1</td>\n",
       "      <td>0</td>\n",
       "      <td>0</td>\n",
       "      <td>0</td>\n",
       "      <td>0</td>\n",
       "      <td>1</td>\n",
       "    </tr>\n",
       "    <tr>\n",
       "      <th>125389</th>\n",
       "      <td>9eae1a5192c1077d</td>\n",
       "      <td>thanks for reading  i appreciate it  you shoul...</td>\n",
       "      <td>0</td>\n",
       "      <td>0</td>\n",
       "      <td>1</td>\n",
       "      <td>0</td>\n",
       "      <td>0</td>\n",
       "      <td>0</td>\n",
       "      <td>1</td>\n",
       "    </tr>\n",
       "    <tr>\n",
       "      <th>137326</th>\n",
       "      <td>dec397cf974a9c78</td>\n",
       "      <td>quit with the crap okay    too many people are...</td>\n",
       "      <td>1</td>\n",
       "      <td>0</td>\n",
       "      <td>0</td>\n",
       "      <td>0</td>\n",
       "      <td>0</td>\n",
       "      <td>0</td>\n",
       "      <td>1</td>\n",
       "    </tr>\n",
       "  </tbody>\n",
       "</table>\n",
       "</div>"
      ],
      "text/plain": [
       "                      id                                       comment_text  \\\n",
       "28202   4aac4c9d44c3f245  awwwwwwww you were called a fuckknuckle diddum...   \n",
       "156621  d13effbe84553680     adam rose     john cena lover why do you de...   \n",
       "8777    174b28aca3fc0228                 tell that crap to amib will ya       \n",
       "18238   302750e68922471c                you are all racist you are all jews   \n",
       "153141  98179215f3d35f14  wow lol      you even restore the question sig...   \n",
       "8690    17153baffc4d82c6                      call me out for being a queer   \n",
       "31588   53de433338e3fc72             muslim lover   you are scared of islam   \n",
       "106689  3a9e459f5f5cccfc  do you know who else believed in censorship   ...   \n",
       "125389  9eae1a5192c1077d  thanks for reading  i appreciate it  you shoul...   \n",
       "137326  dec397cf974a9c78  quit with the crap okay    too many people are...   \n",
       "\n",
       "        toxic  severe_toxic  obscene  threat  insult  identity_hate  \\\n",
       "28202       1             0        1       0       1              0   \n",
       "156621      0             0        1       0       1              0   \n",
       "8777        1             0        0       0       0              0   \n",
       "18238       1             0        0       0       1              0   \n",
       "153141      1             0        0       0       0              0   \n",
       "8690        1             0        0       0       0              0   \n",
       "31588       1             0        0       0       0              0   \n",
       "106689      1             1        0       0       0              0   \n",
       "125389      0             0        1       0       0              0   \n",
       "137326      1             0        0       0       0              0   \n",
       "\n",
       "        flag_toxic  \n",
       "28202            1  \n",
       "156621           1  \n",
       "8777             1  \n",
       "18238            1  \n",
       "153141           1  \n",
       "8690             1  \n",
       "31588            1  \n",
       "106689           1  \n",
       "125389           1  \n",
       "137326           1  "
      ]
     },
     "execution_count": 12,
     "metadata": {},
     "output_type": "execute_result"
    }
   ],
   "source": [
    "df.sample(10)"
   ]
  },
  {
   "cell_type": "code",
   "execution_count": 13,
   "id": "15ff245d",
   "metadata": {},
   "outputs": [],
   "source": [
    "df.drop(['toxic', 'severe_toxic', 'obscene', 'threat', 'insult', 'identity_hate'], axis = 1, inplace=True)"
   ]
  },
  {
   "cell_type": "code",
   "execution_count": 14,
   "id": "84bc803a",
   "metadata": {},
   "outputs": [
    {
     "data": {
      "text/html": [
       "<div>\n",
       "<style scoped>\n",
       "    .dataframe tbody tr th:only-of-type {\n",
       "        vertical-align: middle;\n",
       "    }\n",
       "\n",
       "    .dataframe tbody tr th {\n",
       "        vertical-align: top;\n",
       "    }\n",
       "\n",
       "    .dataframe thead th {\n",
       "        text-align: right;\n",
       "    }\n",
       "</style>\n",
       "<table border=\"1\" class=\"dataframe\">\n",
       "  <thead>\n",
       "    <tr style=\"text-align: right;\">\n",
       "      <th></th>\n",
       "      <th>id</th>\n",
       "      <th>comment_text</th>\n",
       "      <th>flag_toxic</th>\n",
       "    </tr>\n",
       "  </thead>\n",
       "  <tbody>\n",
       "    <tr>\n",
       "      <th>6</th>\n",
       "      <td>0002bcb3da6cb337</td>\n",
       "      <td>cocksucker before you piss around on my work</td>\n",
       "      <td>1</td>\n",
       "    </tr>\n",
       "    <tr>\n",
       "      <th>12</th>\n",
       "      <td>0005c987bdfc9d4b</td>\n",
       "      <td>hey what is it   talk  what is it an exclusive...</td>\n",
       "      <td>1</td>\n",
       "    </tr>\n",
       "    <tr>\n",
       "      <th>16</th>\n",
       "      <td>0007e25b2121310b</td>\n",
       "      <td>bye   do not look come or think of comming bac...</td>\n",
       "      <td>1</td>\n",
       "    </tr>\n",
       "    <tr>\n",
       "      <th>42</th>\n",
       "      <td>001810bf8c45bf5f</td>\n",
       "      <td>you are gay or antisemmitian   archangel white...</td>\n",
       "      <td>1</td>\n",
       "    </tr>\n",
       "    <tr>\n",
       "      <th>43</th>\n",
       "      <td>00190820581d90ce</td>\n",
       "      <td>fuck your filthy mother in the ass dry</td>\n",
       "      <td>1</td>\n",
       "    </tr>\n",
       "    <tr>\n",
       "      <th>...</th>\n",
       "      <td>...</td>\n",
       "      <td>...</td>\n",
       "      <td>...</td>\n",
       "    </tr>\n",
       "    <tr>\n",
       "      <th>159494</th>\n",
       "      <td>fef4cf7ba0012866</td>\n",
       "      <td>our previous conversation   you fucking shi...</td>\n",
       "      <td>1</td>\n",
       "    </tr>\n",
       "    <tr>\n",
       "      <th>159514</th>\n",
       "      <td>ff39a2895fc3b40e</td>\n",
       "      <td>you are a mischievious pubic hair</td>\n",
       "      <td>1</td>\n",
       "    </tr>\n",
       "    <tr>\n",
       "      <th>159541</th>\n",
       "      <td>ffa33d3122b599d6</td>\n",
       "      <td>your absurd edits   your absurd edits on great...</td>\n",
       "      <td>1</td>\n",
       "    </tr>\n",
       "    <tr>\n",
       "      <th>159546</th>\n",
       "      <td>ffb47123b2d82762</td>\n",
       "      <td>hey listen do not you ever delete my edits e...</td>\n",
       "      <td>1</td>\n",
       "    </tr>\n",
       "    <tr>\n",
       "      <th>159554</th>\n",
       "      <td>ffbdbb0483ed0841</td>\n",
       "      <td>and i am going to keep posting the stuff u del...</td>\n",
       "      <td>1</td>\n",
       "    </tr>\n",
       "  </tbody>\n",
       "</table>\n",
       "<p>16225 rows × 3 columns</p>\n",
       "</div>"
      ],
      "text/plain": [
       "                      id                                       comment_text  \\\n",
       "6       0002bcb3da6cb337       cocksucker before you piss around on my work   \n",
       "12      0005c987bdfc9d4b  hey what is it   talk  what is it an exclusive...   \n",
       "16      0007e25b2121310b  bye   do not look come or think of comming bac...   \n",
       "42      001810bf8c45bf5f  you are gay or antisemmitian   archangel white...   \n",
       "43      00190820581d90ce             fuck your filthy mother in the ass dry   \n",
       "...                  ...                                                ...   \n",
       "159494  fef4cf7ba0012866     our previous conversation   you fucking shi...   \n",
       "159514  ff39a2895fc3b40e                  you are a mischievious pubic hair   \n",
       "159541  ffa33d3122b599d6  your absurd edits   your absurd edits on great...   \n",
       "159546  ffb47123b2d82762    hey listen do not you ever delete my edits e...   \n",
       "159554  ffbdbb0483ed0841  and i am going to keep posting the stuff u del...   \n",
       "\n",
       "        flag_toxic  \n",
       "6                1  \n",
       "12               1  \n",
       "16               1  \n",
       "42               1  \n",
       "43               1  \n",
       "...            ...  \n",
       "159494           1  \n",
       "159514           1  \n",
       "159541           1  \n",
       "159546           1  \n",
       "159554           1  \n",
       "\n",
       "[16225 rows x 3 columns]"
      ]
     },
     "execution_count": 14,
     "metadata": {},
     "output_type": "execute_result"
    }
   ],
   "source": [
    "df"
   ]
  },
  {
   "cell_type": "code",
   "execution_count": 15,
   "id": "e8a29087",
   "metadata": {},
   "outputs": [],
   "source": [
    "bert_based_embedder = SentenceTransformer('bert-base-nli-mean-tokens')"
   ]
  },
  {
   "cell_type": "code",
   "execution_count": 16,
   "id": "d2fa630a",
   "metadata": {},
   "outputs": [],
   "source": [
    "input_sentences = df['comment_text'].tolist()"
   ]
  },
  {
   "cell_type": "code",
   "execution_count": null,
   "id": "f6008ced",
   "metadata": {},
   "outputs": [],
   "source": [
    "input_sentence_embeddings = bert_based_embedder.encode(input_sentences)"
   ]
  },
  {
   "cell_type": "code",
   "execution_count": 1,
   "id": "7fc56d2d",
   "metadata": {},
   "outputs": [],
   "source": [
    "\n",
    "# with open('input_sentence_clean_embeddings.pickle', 'wb') as file:\n",
    "#     pickle.dump(query_embeddings, file)\n",
    "#     file.close()"
   ]
  },
  {
   "cell_type": "code",
   "execution_count": 17,
   "id": "a9449654",
   "metadata": {},
   "outputs": [],
   "source": [
    "\n",
    "with open('query_embeddings_clean.pickle', 'rb') as file:\n",
    "    \n",
    "    input_sentence_embeddings = pickle.load(file)"
   ]
  },
  {
   "cell_type": "code",
   "execution_count": 18,
   "id": "f6301fdc",
   "metadata": {},
   "outputs": [
    {
     "name": "stdout",
     "output_type": "stream",
     "text": [
      "[0.05024188]\n"
     ]
    }
   ],
   "source": [
    "\n",
    "def check(comment):\n",
    "    comment_embeddings = bert_based_embedder.encode(comment)\n",
    "    distances = scipy.spatial.distance.cdist(input_sentence_embeddings, [comment_embeddings], \"cosine\")[0]\n",
    "    print(1-distances)\n",
    "    if(1-distances>=0.5):\n",
    "        x = 'The above statement needs to be flagged'\n",
    "        return x\n",
    "    \n",
    "    else:\n",
    "        x = 'Nothing wrong here'\n",
    "        return x\n",
    "    \n",
    "    \n",
    "value = check('It was a good day !')\n"
   ]
  },
  {
   "cell_type": "code",
   "execution_count": 19,
   "id": "d98f0e8b",
   "metadata": {},
   "outputs": [
    {
     "name": "stdout",
     "output_type": "stream",
     "text": [
      "[0.05024188]\n"
     ]
    },
    {
     "data": {
      "text/plain": [
       "'Nothing wrong here'"
      ]
     },
     "execution_count": 19,
     "metadata": {},
     "output_type": "execute_result"
    }
   ],
   "source": [
    "value = check('It was a good day !')\n",
    "value"
   ]
  },
  {
   "cell_type": "code",
   "execution_count": 42,
   "id": "2d7380db",
   "metadata": {},
   "outputs": [
    {
     "name": "stdout",
     "output_type": "stream",
     "text": [
      "[0.62924553]\n",
      "CPU times: user 113 ms, sys: 12 ms, total: 125 ms\n",
      "Wall time: 123 ms\n"
     ]
    },
    {
     "data": {
      "text/plain": [
       "'The above statement needs to be flagged'"
      ]
     },
     "execution_count": 42,
     "metadata": {},
     "output_type": "execute_result"
    }
   ],
   "source": [
    "%%time\n",
    "value = check('Shut up you imbecile !')\n",
    "value"
   ]
  },
  {
   "cell_type": "code",
   "execution_count": 43,
   "id": "f147ec22",
   "metadata": {},
   "outputs": [
    {
     "name": "stdout",
     "output_type": "stream",
     "text": [
      "[0.55886211]\n",
      "CPU times: user 115 ms, sys: 12 ms, total: 127 ms\n",
      "Wall time: 124 ms\n"
     ]
    },
    {
     "data": {
      "text/plain": [
       "'The above statement needs to be flagged'"
      ]
     },
     "execution_count": 43,
     "metadata": {},
     "output_type": "execute_result"
    }
   ],
   "source": [
    "%%time\n",
    "value = check('take your dumb @$$ away from here')\n",
    "value"
   ]
  },
  {
   "cell_type": "code",
   "execution_count": 22,
   "id": "ac3ac773",
   "metadata": {},
   "outputs": [
    {
     "name": "stdout",
     "output_type": "stream",
     "text": [
      "[0.29671097]\n"
     ]
    },
    {
     "data": {
      "text/plain": [
       "'Nothing wrong here'"
      ]
     },
     "execution_count": 22,
     "metadata": {},
     "output_type": "execute_result"
    }
   ],
   "source": [
    "value = check('I prefer supporting the usual norms rather than doing something revolutionary')\n",
    "value"
   ]
  },
  {
   "cell_type": "code",
   "execution_count": 23,
   "id": "de61d4ae",
   "metadata": {},
   "outputs": [
    {
     "name": "stdout",
     "output_type": "stream",
     "text": [
      "[0.56890382]\n"
     ]
    },
    {
     "data": {
      "text/plain": [
       "'The above statement needs to be flagged'"
      ]
     },
     "execution_count": 23,
     "metadata": {},
     "output_type": "execute_result"
    }
   ],
   "source": [
    "# !pip install gradio\n",
    "value = check('shut up u moron')\n",
    "value"
   ]
  },
  {
   "cell_type": "code",
   "execution_count": 24,
   "id": "de0c298d",
   "metadata": {},
   "outputs": [
    {
     "name": "stdout",
     "output_type": "stream",
     "text": [
      "[0.60008562]\n"
     ]
    },
    {
     "data": {
      "text/plain": [
       "'The above statement needs to be flagged'"
      ]
     },
     "execution_count": 24,
     "metadata": {},
     "output_type": "execute_result"
    }
   ],
   "source": [
    "value = check('fuck you moron')\n",
    "value"
   ]
  },
  {
   "cell_type": "code",
   "execution_count": null,
   "id": "9585b41a",
   "metadata": {},
   "outputs": [],
   "source": []
  },
  {
   "cell_type": "code",
   "execution_count": 32,
   "id": "82ec53d4",
   "metadata": {},
   "outputs": [],
   "source": []
  },
  {
   "cell_type": "code",
   "execution_count": null,
   "id": "8031cd81",
   "metadata": {},
   "outputs": [],
   "source": []
  },
  {
   "cell_type": "code",
   "execution_count": null,
   "id": "b0f3dc12",
   "metadata": {},
   "outputs": [],
   "source": []
  }
 ],
 "metadata": {
  "kernelspec": {
   "display_name": "Python 3",
   "language": "python",
   "name": "python3"
  },
  "language_info": {
   "codemirror_mode": {
    "name": "ipython",
    "version": 3
   },
   "file_extension": ".py",
   "mimetype": "text/x-python",
   "name": "python",
   "nbconvert_exporter": "python",
   "pygments_lexer": "ipython3",
   "version": "3.8.8"
  }
 },
 "nbformat": 4,
 "nbformat_minor": 5
}
